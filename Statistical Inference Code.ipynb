{
 "cells": [
  {
   "cell_type": "markdown",
   "id": "1a34e3db",
   "metadata": {},
   "source": [
    "## Appendix A: Import, Analyse and Visualise Data"
   ]
  },
  {
   "cell_type": "code",
   "execution_count": 1,
   "id": "22b6bdc5",
   "metadata": {},
   "outputs": [],
   "source": [
    "#import relevant packages and libraries\n",
    "import pandas as pd\n",
    "import numpy as np\n",
    "from scipy import stats\n",
    "from scipy.stats import norm\n",
    "import matplotlib.pyplot as plt\n",
    "import seaborn as sns\n",
    "%matplotlib inline \n",
    "plt.rcParams.update({'font.size': 14})\n",
    "\n",
    "#import the data using pandas\n",
    "#this reads the data into a \"dataframe\"\n",
    "unfiltered_data = pd.read_csv(\"cholesterol.csv\", sep=',')"
   ]
  },
  {
   "cell_type": "code",
   "execution_count": 2,
   "id": "e2a16026",
   "metadata": {},
   "outputs": [
    {
     "data": {
      "text/html": [
       "<div>\n",
       "<style scoped>\n",
       "    .dataframe tbody tr th:only-of-type {\n",
       "        vertical-align: middle;\n",
       "    }\n",
       "\n",
       "    .dataframe tbody tr th {\n",
       "        vertical-align: top;\n",
       "    }\n",
       "\n",
       "    .dataframe thead th {\n",
       "        text-align: right;\n",
       "    }\n",
       "</style>\n",
       "<table border=\"1\" class=\"dataframe\">\n",
       "  <thead>\n",
       "    <tr style=\"text-align: right;\">\n",
       "      <th></th>\n",
       "      <th>age</th>\n",
       "      <th>sex</th>\n",
       "      <th>chol</th>\n",
       "    </tr>\n",
       "  </thead>\n",
       "  <tbody>\n",
       "    <tr>\n",
       "      <th>0</th>\n",
       "      <td>63</td>\n",
       "      <td>1</td>\n",
       "      <td>233</td>\n",
       "    </tr>\n",
       "    <tr>\n",
       "      <th>1</th>\n",
       "      <td>37</td>\n",
       "      <td>1</td>\n",
       "      <td>250</td>\n",
       "    </tr>\n",
       "    <tr>\n",
       "      <th>3</th>\n",
       "      <td>56</td>\n",
       "      <td>1</td>\n",
       "      <td>236</td>\n",
       "    </tr>\n",
       "    <tr>\n",
       "      <th>5</th>\n",
       "      <td>57</td>\n",
       "      <td>1</td>\n",
       "      <td>192</td>\n",
       "    </tr>\n",
       "    <tr>\n",
       "      <th>7</th>\n",
       "      <td>44</td>\n",
       "      <td>1</td>\n",
       "      <td>263</td>\n",
       "    </tr>\n",
       "    <tr>\n",
       "      <th>8</th>\n",
       "      <td>52</td>\n",
       "      <td>1</td>\n",
       "      <td>199</td>\n",
       "    </tr>\n",
       "    <tr>\n",
       "      <th>9</th>\n",
       "      <td>57</td>\n",
       "      <td>1</td>\n",
       "      <td>168</td>\n",
       "    </tr>\n",
       "  </tbody>\n",
       "</table>\n",
       "</div>"
      ],
      "text/plain": [
       "   age  sex  chol\n",
       "0   63    1   233\n",
       "1   37    1   250\n",
       "3   56    1   236\n",
       "5   57    1   192\n",
       "7   44    1   263\n",
       "8   52    1   199\n",
       "9   57    1   168"
      ]
     },
     "execution_count": 2,
     "metadata": {},
     "output_type": "execute_result"
    }
   ],
   "source": [
    "#filter out only the men, using the column 'sex'\n",
    "only_men = unfiltered_data['sex']==1\n",
    "data = unfiltered_data[only_men]\n",
    "data = data[['age','sex','chol']]\n",
    "\n",
    "#this shows the first 7 rows of data on men\n",
    "data.head(7)"
   ]
  },
  {
   "cell_type": "code",
   "execution_count": 3,
   "id": "29cfb8fc",
   "metadata": {},
   "outputs": [
    {
     "data": {
      "text/plain": [
       "age     0.0\n",
       "sex     0.0\n",
       "chol    0.0\n",
       "dtype: float64"
      ]
     },
     "execution_count": 3,
     "metadata": {},
     "output_type": "execute_result"
    }
   ],
   "source": [
    "#this checks for any missing values\n",
    "#sieves through the data to check for any null values\n",
    "#represented as a percentage of missing values in each column in the dataset\n",
    "data.isnull().sum()/len(unfiltered_data)*100"
   ]
  },
  {
   "cell_type": "code",
   "execution_count": 4,
   "id": "b9feda11",
   "metadata": {},
   "outputs": [
    {
     "data": {
      "text/html": [
       "<div>\n",
       "<style scoped>\n",
       "    .dataframe tbody tr th:only-of-type {\n",
       "        vertical-align: middle;\n",
       "    }\n",
       "\n",
       "    .dataframe tbody tr th {\n",
       "        vertical-align: top;\n",
       "    }\n",
       "\n",
       "    .dataframe thead th {\n",
       "        text-align: right;\n",
       "    }\n",
       "</style>\n",
       "<table border=\"1\" class=\"dataframe\">\n",
       "  <thead>\n",
       "    <tr style=\"text-align: right;\">\n",
       "      <th></th>\n",
       "      <th>age</th>\n",
       "      <th>sex</th>\n",
       "      <th>chol</th>\n",
       "    </tr>\n",
       "  </thead>\n",
       "  <tbody>\n",
       "    <tr>\n",
       "      <th>count</th>\n",
       "      <td>207.000000</td>\n",
       "      <td>207.0</td>\n",
       "      <td>207.000000</td>\n",
       "    </tr>\n",
       "    <tr>\n",
       "      <th>mean</th>\n",
       "      <td>53.758454</td>\n",
       "      <td>1.0</td>\n",
       "      <td>239.289855</td>\n",
       "    </tr>\n",
       "    <tr>\n",
       "      <th>std</th>\n",
       "      <td>8.883803</td>\n",
       "      <td>0.0</td>\n",
       "      <td>42.782392</td>\n",
       "    </tr>\n",
       "    <tr>\n",
       "      <th>min</th>\n",
       "      <td>29.000000</td>\n",
       "      <td>1.0</td>\n",
       "      <td>126.000000</td>\n",
       "    </tr>\n",
       "    <tr>\n",
       "      <th>25%</th>\n",
       "      <td>47.000000</td>\n",
       "      <td>1.0</td>\n",
       "      <td>208.000000</td>\n",
       "    </tr>\n",
       "    <tr>\n",
       "      <th>50%</th>\n",
       "      <td>54.000000</td>\n",
       "      <td>1.0</td>\n",
       "      <td>235.000000</td>\n",
       "    </tr>\n",
       "    <tr>\n",
       "      <th>75%</th>\n",
       "      <td>59.500000</td>\n",
       "      <td>1.0</td>\n",
       "      <td>268.000000</td>\n",
       "    </tr>\n",
       "    <tr>\n",
       "      <th>max</th>\n",
       "      <td>77.000000</td>\n",
       "      <td>1.0</td>\n",
       "      <td>353.000000</td>\n",
       "    </tr>\n",
       "  </tbody>\n",
       "</table>\n",
       "</div>"
      ],
      "text/plain": [
       "              age    sex        chol\n",
       "count  207.000000  207.0  207.000000\n",
       "mean    53.758454    1.0  239.289855\n",
       "std      8.883803    0.0   42.782392\n",
       "min     29.000000    1.0  126.000000\n",
       "25%     47.000000    1.0  208.000000\n",
       "50%     54.000000    1.0  235.000000\n",
       "75%     59.500000    1.0  268.000000\n",
       "max     77.000000    1.0  353.000000"
      ]
     },
     "execution_count": 4,
     "metadata": {},
     "output_type": "execute_result"
    }
   ],
   "source": [
    "#print the summary statistics (count, mean, SD, etc.)\n",
    "\n",
    "#as explained in the documentation, Bessel's correction is used by default. \n",
    "#this means that the denominator in the calculation of standard deviation is n-1\n",
    "#(https://pandas/pydata.org/panadas-docs/stable/generated/pandas.DataFrame.std.html)\n",
    "\n",
    "data.describe()"
   ]
  },
  {
   "cell_type": "code",
   "execution_count": 5,
   "id": "9fcbf23b",
   "metadata": {},
   "outputs": [
    {
     "name": "stdout",
     "output_type": "stream",
     "text": [
      "age\n",
      "- Median =  54.0\n",
      "- Mode =  57\n",
      "chol\n",
      "- Median =  235.0\n",
      "- Mode =  212\n"
     ]
    }
   ],
   "source": [
    "#This function utilises the library functions to compute the median and the mode\n",
    "\n",
    "def median_and_mode(column):\n",
    "    print(column)\n",
    "    print(\"- Median = \", np.median(data[column]))\n",
    "    print(\"- Mode = \", stats.mode(data[column])[0][0]) #to make sure more than 1 mode can be returned\n",
    "    \n",
    "median_and_mode('age')\n",
    "median_and_mode('chol')"
   ]
  },
  {
   "cell_type": "code",
   "execution_count": 6,
   "id": "b58c57a1",
   "metadata": {},
   "outputs": [
    {
     "name": "stdout",
     "output_type": "stream",
     "text": [
      "[63, 37, 56, 57, 44, 52, 57, 54, 49, 64, 43, 59, 44, 42, 61, 40, 59, 51, 53, 65, 44, 54, 51, 54, 48, 45, 39, 52, 44, 47, 66, 62, 52, 48, 45, 34, 54, 52, 41, 58, 51, 44, 54, 51, 29, 51, 51, 59, 52, 58, 41, 45, 52, 68, 46, 48, 57, 52, 53, 52, 43, 53, 42, 59, 42, 50, 69, 57, 43, 55, 41, 56, 59, 47, 42, 41, 62, 57, 64, 43, 70, 44, 42, 66, 64, 47, 35, 58, 56, 56, 41, 38, 38, 67, 67, 63, 53, 56, 48, 58, 58, 60, 40, 60, 64, 43, 57, 55, 58, 50, 44, 60, 54, 50, 41, 58, 54, 60, 60, 59, 46, 67, 62, 65, 44, 60, 58, 68, 52, 59, 49, 59, 57, 61, 39, 56, 63, 65, 48, 55, 65, 54, 70, 62, 35, 59, 64, 47, 57, 55, 64, 70, 51, 58, 60, 77, 35, 70, 64, 57, 56, 48, 66, 54, 69, 51, 43, 67, 59, 45, 58, 50, 38, 52, 53, 54, 66, 49, 54, 56, 46, 61, 67, 58, 47, 52, 58, 57, 61, 42, 52, 59, 40, 61, 46, 59, 57, 57, 61, 58, 67, 44, 63, 59, 45, 68, 57]\n",
      "[233, 250, 236, 192, 263, 199, 168, 239, 266, 211, 247, 234, 233, 226, 243, 199, 212, 175, 197, 177, 219, 273, 213, 232, 245, 208, 321, 325, 235, 257, 302, 231, 201, 222, 260, 182, 309, 186, 203, 211, 222, 220, 258, 227, 204, 261, 245, 221, 205, 240, 250, 308, 298, 277, 197, 255, 207, 223, 226, 233, 315, 246, 244, 270, 240, 196, 234, 126, 211, 262, 214, 193, 271, 204, 295, 235, 208, 201, 263, 303, 245, 226, 180, 228, 227, 253, 192, 220, 221, 240, 157, 175, 175, 286, 229, 254, 203, 256, 229, 284, 224, 206, 167, 230, 335, 177, 276, 353, 230, 243, 290, 253, 266, 233, 172, 216, 188, 282, 185, 326, 231, 254, 267, 248, 197, 258, 270, 274, 255, 239, 188, 177, 229, 260, 219, 249, 330, 254, 256, 217, 282, 239, 174, 281, 198, 288, 309, 243, 289, 289, 246, 322, 299, 300, 293, 304, 282, 269, 212, 274, 184, 274, 246, 283, 254, 298, 247, 299, 273, 309, 259, 200, 231, 230, 282, 206, 212, 149, 286, 283, 249, 234, 237, 234, 275, 212, 218, 261, 166, 315, 204, 218, 223, 207, 311, 204, 232, 335, 203, 318, 212, 169, 187, 176, 264, 193, 131]\n"
     ]
    },
    {
     "data": {
      "image/png": "[encoded data removed]",
      "text/plain": [
       "<Figure size 360x288 with 1 Axes>"
      ]
     },
     "metadata": {
      "needs_background": "light"
     },
     "output_type": "display_data"
    },
    {
     "data": {
      "image/png": "[encoded data removed]",
      "text/plain": [
       "<Figure size 360x288 with 1 Axes>"
      ]
     },
     "metadata": {
      "needs_background": "light"
     },
     "output_type": "display_data"
    }
   ],
   "source": [
    "#transforms the dataframe into simple list for easier analysis\n",
    "ages = list(data['age'].values)\n",
    "chol = list(data['chol'].values)\n",
    "\n",
    "print(ages)\n",
    "print(chol)\n",
    "\n",
    "%matplotlib inline\n",
    "#this creates a histogram for age\n",
    "def histogram_age():\n",
    "    \n",
    "    plt.figure(figsize=[5,4])\n",
    "    x = ages\n",
    "    \n",
    "    bins_list = [20,30,40,50,60,70,80]\n",
    "    n, bins, patches = plt.hist(x, bins_list)\n",
    "    \n",
    "    plt.title('Frequency of Ages')\n",
    "    plt.xlabel('Age')\n",
    "    plt.ylabel('Frequency')\n",
    "    \n",
    "    plt.show()\n",
    "\n",
    "#this creates a histogram for the cholesterol levels\n",
    "def histogram_chol():\n",
    "    \n",
    "    plt.figure(figsize=[5,4])\n",
    "    x = chol\n",
    "    \n",
    "    bins_list = [100,150,200,250,300,350,400]\n",
    "    n, bins, patches = plt.hist(x, bins_list)\n",
    "    \n",
    "    plt.title('Frequency of Cholesterol Levels')\n",
    "    plt.xlabel('Cholesterol Levels (mg/dl)')\n",
    "    plt.ylabel('Frequency')\n",
    "\n",
    "    plt.show()\n",
    "\n",
    "histogram_age()\n",
    "histogram_chol()"
   ]
  },
  {
   "cell_type": "markdown",
   "id": "b2b6dd51",
   "metadata": {},
   "source": [
    "## Appendix B: Examine the Subgroups"
   ]
  },
  {
   "cell_type": "code",
   "execution_count": 7,
   "id": "6b2ba91c",
   "metadata": {},
   "outputs": [
    {
     "name": "stdout",
     "output_type": "stream",
     "text": [
      "Cholesterol Levels (Younger Men)\n",
      "- n1 =  155\n",
      "- Mean =  236.81935483870967\n",
      "- Median =  233.0\n",
      "- Mode =  ModeResult(mode=array([204]), count=array([4]))\n",
      "- SD =  43.28469195942859\n",
      "- range =  227\n",
      "\n",
      "\n",
      "Cholesterol Levels (Older Men)\n",
      "- n2 =  52\n",
      "- Mean =  246.65384615384616\n",
      "- Median =  246.0\n",
      "- Mode =  ModeResult(mode=array([254]), count=array([4]))\n",
      "- SD =  40.76565481343362\n",
      "- range =  169\n"
     ]
    },
    {
     "data": {
      "image/png": "[encoded data removed]",
      "text/plain": [
       "<Figure size 864x288 with 2 Axes>"
      ]
     },
     "metadata": {
      "needs_background": "light"
     },
     "output_type": "display_data"
    }
   ],
   "source": [
    "#create lists for older men and younger men\n",
    "\n",
    "younger_men = []\n",
    "older_men = []\n",
    "\n",
    "for i in range(len(chol)):\n",
    "    #iterates through the list. If the age is less than 60, appended to younger men list\n",
    "    if ages[i]<60:\n",
    "        younger_men.append(chol[i])\n",
    "    #else, which means age equals or more than 60, appended to older men list\n",
    "    else:\n",
    "        older_men.append(chol[i])\n",
    "\n",
    "#print summary statistics\n",
    "\n",
    "def summary1(column):\n",
    "    print(\"- n1 = \", len(column))\n",
    "    print(\"- Mean = \", np.mean(column))\n",
    "    print(\"- Median = \", np.median(column))\n",
    "    print(\"- Mode = \", stats.mode(column))\n",
    "    print(\"- SD = \", stats.tstd(column))\n",
    "    print(\"- range = \", (max(column)-min(column))) #range is max-min in the list\n",
    "\n",
    "def summary2(column):\n",
    "    print(\"- n2 = \", len(column))\n",
    "    print(\"- Mean = \", np.mean(column))\n",
    "    print(\"- Median = \", np.median(column))\n",
    "    print(\"- Mode = \", stats.mode(column))\n",
    "    print(\"- SD = \", stats.tstd(column))\n",
    "    print(\"- range = \", (max(column)-min(column)))\n",
    "    \n",
    "print(\"Cholesterol Levels (Younger Men)\")\n",
    "summary1(younger_men)\n",
    "print('\\n')\n",
    "print(\"Cholesterol Levels (Older Men)\")\n",
    "summary2(older_men)          \n",
    "\n",
    "#create histograms for each subgroup\n",
    "fig, axs = plt.subplots(1,2,figsize=(12,4))\n",
    "bins_list = [100,150,200,250,300,350]\n",
    "axs[0].axvline(x = 236.8, color = 'red', label = 'Mean = 236.8') #this draws a vertical line to show mean chol level\n",
    "axs[0].hist(younger_men,bins_list);\n",
    "axs[0].set(xlabel='Younger Men\\'s Cholesterol Levels (mg/dl)', ylabel = 'Frequency');\n",
    "axs[0].legend();\n",
    "\n",
    "axs[1].axvline(x = 246.7, color = 'red', label = 'Mean = 246.7') #this draws a vertical line to show mean chol level\n",
    "axs[1].hist(older_men,6);\n",
    "axs[1].set(xlabel='Older Men\\'s Cholesterol Levels (mg/dl)', ylabel = 'Frequency');\n",
    "axs[1].legend();"
   ]
  },
  {
   "cell_type": "markdown",
   "id": "792d9c62",
   "metadata": {},
   "source": [
    "## Appendix C: Difference of Means Test"
   ]
  },
  {
   "cell_type": "code",
   "execution_count": 8,
   "id": "78da70f9",
   "metadata": {},
   "outputs": [
    {
     "name": "stdout",
     "output_type": "stream",
     "text": [
      "T = 1.4818318312351821\n",
      "p = 0.07226891683211992\n",
      "g = 0.23046760770505678\n"
     ]
    }
   ],
   "source": [
    "#this function inputs two lists and performs a difference of means test\n",
    "def difference_of_means_test(data1,data2,tails):\n",
    "    n1 = len(data1)\n",
    "    n2 = len(data2)\n",
    "\n",
    "    x1 = np.mean(data1)\n",
    "    x2 = np.mean(data2)\n",
    "\n",
    "    #sample SD formula (aka Bessel’s correction): which uses n-1 in denominator\n",
    "    s1 = np.std(data1,ddof=1) \n",
    "    s2 = np.std(data2,ddof=1)\n",
    "\n",
    "    SE = np.sqrt(s1**2/n1 + s2**2/n2)\n",
    "    Tscore = np.abs((x2 - x1))/SE\n",
    "    df = min(n1,n2) - 1 #conservative estimate from OpenIntro Statistics\n",
    "    pvalue = tails*stats.t.cdf(-Tscore,df)\n",
    "\n",
    "    SDpooled = np.sqrt((s1**2*(n1-1) + s2**2*(n2-1))/(n1+n2-2)) # OpenIntro section 5.3.6\n",
    "    Hedgesg = (x2 - x1)/SDpooled\n",
    "\n",
    "    print('T =',Tscore)\n",
    "    print('p =',pvalue)\n",
    "    print('g =',Hedgesg)\n",
    "    \n",
    "difference_of_means_test(younger_men,older_men,1)"
   ]
  },
  {
   "cell_type": "markdown",
   "id": "ef9d9e55",
   "metadata": {},
   "source": [
    "## Appendix D: Confidence Interval"
   ]
  },
  {
   "cell_type": "code",
   "execution_count": 9,
   "id": "483296a8",
   "metadata": {},
   "outputs": [
    {
     "name": "stdout",
     "output_type": "stream",
     "text": [
      "95% confidence interval: [229.95, 243.69]\n"
     ]
    }
   ],
   "source": [
    "#function to compute the confidence interval from mean, SD and sample size\n",
    "def confidence_interval(data_list):\n",
    "    n = len(data_list)\n",
    "    point_estimate = np.mean(data_list)\n",
    "    s = stats.tstd(data_list)\n",
    "    df = n-1\n",
    "    SE = s/np.sqrt(n)\n",
    "\n",
    "    t = stats.t.ppf(1-0.05/2,df)\n",
    "\n",
    "    lower_bound = point_estimate - t*SE\n",
    "    upper_bound = point_estimate + t*SE\n",
    "\n",
    "    print(\"95% confidence interval:\", [round(lower_bound,2),round(upper_bound,2)])\n",
    "    \n",
    "confidence_interval(younger_men)"
   ]
  },
  {
   "cell_type": "code",
   "execution_count": 10,
   "id": "184a66ec",
   "metadata": {},
   "outputs": [
    {
     "name": "stdout",
     "output_type": "stream",
     "text": [
      "95% confidence interval: [235.3, 258.0]\n"
     ]
    }
   ],
   "source": [
    "confidence_interval(older_men)"
   ]
  },
  {
   "cell_type": "markdown",
   "id": "4afb99dd",
   "metadata": {},
   "source": [
    "## Appendix E: Plotting Distributions of Cholesterol Levels"
   ]
  },
  {
   "cell_type": "code",
   "execution_count": 11,
   "id": "105e2d36",
   "metadata": {},
   "outputs": [
    {
     "name": "stderr",
     "output_type": "stream",
     "text": [
      "/Users/rachaelchew/opt/anaconda3/lib/python3.8/site-packages/seaborn/distributions.py:2619: FutureWarning: `distplot` is a deprecated function and will be removed in a future version. Please adapt your code to use either `displot` (a figure-level function with similar flexibility) or `histplot` (an axes-level function for histograms).\n",
      "  warnings.warn(msg, FutureWarning)\n",
      "/Users/rachaelchew/opt/anaconda3/lib/python3.8/site-packages/seaborn/distributions.py:2619: FutureWarning: `distplot` is a deprecated function and will be removed in a future version. Please adapt your code to use either `displot` (a figure-level function with similar flexibility) or `histplot` (an axes-level function for histograms).\n",
      "  warnings.warn(msg, FutureWarning)\n"
     ]
    },
    {
     "data": {
      "image/png": "[encoded data removed]",
      "text/plain": [
       "<Figure size 960x560 with 1 Axes>"
      ]
     },
     "metadata": {
      "needs_background": "light"
     },
     "output_type": "display_data"
    }
   ],
   "source": [
    "#plot the histogram and density curve on the same plot\n",
    "\n",
    "#this sets the colour transparency and line thickness of the plots\n",
    "kwargs = dict(hist_kws={'alpha':0.4}, kde_kws={'linewidth':4})\n",
    "\n",
    "x1 = younger_men\n",
    "x2 = older_men\n",
    "\n",
    "plt.figure(figsize=(12,7), dpi= 80)\n",
    "sns.distplot(x1, color=\"orange\", label=\"Younger Men\", **kwargs)\n",
    "sns.distplot(x2, color=\"purple\", label=\"Older Men\", **kwargs)\n",
    "\n",
    "plt.xlabel('Cholesterol Levels (mg/dl)')\n",
    "plt.xlim(100,380)\n",
    "\n",
    "plt.title('Distributions of Cholesterol Levels for Younger Men and Older Men')\n",
    "plt.axvline(x = 229.95, color = 'yellow', label = '95% confidence interval for Younger Men')\n",
    "plt.axvline(x = 243.69, color = 'yellow')\n",
    "plt.axvline(x = 235.3, color = 'red', label = '95% confidence interval for Older Men ')\n",
    "plt.axvline(x = 258.0, color = 'red')\n",
    "plt.legend();"
   ]
  },
  {
   "cell_type": "code",
   "execution_count": null,
   "id": "06e95f4a",
   "metadata": {},
   "outputs": [],
   "source": []
  }
 ],
 "metadata": {
  "kernelspec": {
   "display_name": "Python 3 (ipykernel)",
   "language": "python",
   "name": "python3"
  },
  "language_info": {
   "codemirror_mode": {
    "name": "ipython",
    "version": 3
   },
   "file_extension": ".py",
   "mimetype": "text/x-python",
   "name": "python",
   "nbconvert_exporter": "python",
   "pygments_lexer": "ipython3",
   "version": "3.8.2"
  }
 },
 "nbformat": 4,
 "nbformat_minor": 5
}
